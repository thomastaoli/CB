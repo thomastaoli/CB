{
 "cells": [
  {
   "cell_type": "code",
   "execution_count": 19,
   "metadata": {},
   "outputs": [],
   "source": [
    "import os\n",
    "from pdfminer.high_level import extract_text\n",
    "from openai import OpenAI\n",
    "import pandas as pd"
   ]
  },
  {
   "cell_type": "code",
   "execution_count": 21,
   "metadata": {},
   "outputs": [],
   "source": [
    "client = OpenAI(\n",
    "    api_key=\"KEY\",\n",
    ")"
   ]
  },
  {
   "cell_type": "code",
   "execution_count": 11,
   "metadata": {},
   "outputs": [
    {
     "name": "stdout",
     "output_type": "stream",
     "text": [
      "['FBM_Minutes_03-04-15.pdf', '20-07-28.pdf', '16-05-24.pdf', 'FBM_Minutes_09-05-26.pdf', '18-02-27.pdf', '11-01-25.pdf', '10-07-27.pdf', 'FBM_Minutes_04-05-18.pdf', 'FBM_Minutes_08-03-25.pdf', '21-06-22.pdf', 'FBM_Minutes_06-01-17.pdf', '21-04-27.pdf', 'FBM_Minutes_08-11-25.pdf', '20-02-25.pdf', '20-12-22.pdf', '14-01-28.pdf', '11-03-22.pdf', 'july-2014.pdf', 'june-2014.pdf', '13-05-28.pdf', 'FBM_Minutes_06-06-20.pdf', '12-06-26.pdf', '11-11-22.pdf', '23-09-26.pdf', '20-10-27.pdf', '22-06-28.pdf', 'FBM_Minutes_06-04-18.pdf', 'june-2015.pdf', '15-10-27.pdf', '13-12-19.pdf', '23-05-23.pdf', 'FBM_Minutes_05-01-18.pdf', '10-05-25.pdf', 'FBM_Minutes_06-11-15.pdf', '24-01-23.pdf', '18-12-19.pdf', '16-9-27.pdf', 'FBM_Minutes_04-02-17.pdf', '19-04-23.pdf', 'FBM_Minutes_03-06-17.pdf', '17-01-24.pdf', '16-07-26.pdf', 'FBM_Minutes_04-07-27.pdf', '22-03-22.pdf', '18-10-23.pdf', '10-12-16.pdf', '22-11-22.pdf', '09-12-15.pdf', '23-07-25.pdf', 'FBM_Minutes_07-12-18.pdf', '11-06-28.pdf', 'FBM_Minutes_03-11-18.pdf', 'FBM_Minutes_07-02-20.pdf', 'FBM_Minutes_07-05-15.pdf', 'FBM_Minutes_03-01-21.pdf', '12-04-24.pdf', '13-02-26.pdf', 'FBM_Minutes_03-03-18.pdf', '19-06-25.pdf', 'FBM_Minutes_04-09-21.pdf', '23-02-28.pdf', 'FBM_Minutes_08-12-16.pdf', '20-06-23.pdf', '13-06-25.pdf', 'apr-2015.pdf', 'FBM_Minutes_09-03-24.pdf', 'may-2014.pdf', '14-02-25.pdf', '19-02-26.pdf', '18-04-24.pdf', '11-07-26.pdf', '21-12-21.pdf', '15-7-28.pdf', 'FBM_Minutes_07-01-16.pdf', '22-05-24.pdf', 'sep-2014.pdf', '12-10-23.pdf', 'FBM_Minutes_08-05-27.pdf', 'may-2015.pdf', '22-1-25.pdf', '13-04-23.pdf', '17-09-26.pdf', '16-06-28.pdf', 'FBM_Minutes_03-05-20.pdf', '12-12-19.pdf', 'FBM_Minutes_04-01-20.pdf', 'mar-2015.pdf', '10-03-23.pdf', 'FBM_Minutes_04-06-15.pdf', 'FBM_Minutes_04-03-25.pdf', '10-01-26.pdf', '22-09-27.pdf', '21-10-26.pdf', '10-11-23.pdf', '20-01-28.pdf', '19-12-19.pdf', '23-01-24.pdf', '22-07-26.pdf', 'FBM_Minutes_09-01-27.pdf', 'FBM_Minutes_05-07-26.pdf', 'FBM_Minutes_07-06-19.pdf', 'FBM_Minutes_08-10-28.pdf', '21-02-23.pdf', '11-05-24.pdf', '18-06-26.pdf', '19-05-28.pdf', 'FBM_Minutes_06-05-16.pdf', '17-05-23.pdf', '17-02-28.pdf', '21-09-28.pdf', 'FBM_Minutes_06-02-21.pdf', 'FBM_Minutes_09-04-28.pdf', 'FBM_Minutes_05-02-15.pdf', 'FBM_Minutes_08-09-23.pdf', 'FBM_Minutes_05-09-20.pdf', '16-01-26.pdf', '19-10-22.pdf', '17-07-25.pdf', 'FBM_Minutes_03-12-16.pdf', '16-11-22.pdf', '11-09-27.pdf', '16-03-22.pdf', '16-04-26.pdf', '22-10-25.pdf', 'FBM_Minutes_05-12-20.pdf', 'FBM_Minutes_08-02-26.pdf', '17-12-21.pdf', '17-10-24.pdf', '12-05-22.pdf', 'FBM_Minutes_05-10-18.pdf', 'FBM_Minutes_06-09-19.pdf', '22-12-21.pdf', '21-05-25.pdf', '11-02-22.pdf', 'dec-2014.pdf', '13-11-21.pdf', 'FBM_Minutes_03-09-16.pdf', 'FBM_Minutes_03-10-21.pdf', '18-03-27.pdf', 'FBM_Minutes_08-07-29.pdf', '18-11-27.pdf', '12-02-28.pdf', '20-03-24.pdf', '15-11-19.pdf', '18-01-23.pdf', '19-09-24.pdf', '23-04-25.pdf', '091027.pdf', '20-11-24.pdf', '12-09-20.pdf', '21-07-27.pdf', '23-11-28.pdf', 'FBM_Minutes_07-03-20.pdf', '11-10-25.pdf', 'FBM_Minutes_06-12-06.pdf', '10-06-22.pdf', '23-03-28.pdf', 'FBM_Minutes_06-10-17.pdf', 'FBM_Minutes_07-11-20.pdf', '10-04-27.pdf', '090922.pdf', '13-03-27.pdf', '11-12-21.pdf', 'FBM_Minutes_03-02-25.pdf', '20-04-28.pdf', '19-07-30.pdf', '22-02-22.pdf', 'FBM_Minutes_05-05-17.pdf', 'FBM_Minutes_04-04-20.pdf', '13-01-22.pdf', 'FBM_Minutes_03-07-29.pdf', 'jan-2015.pdf', '24-02-27.pdf', '23-06-27.pdf', 'FBM_Minutes_09-06-30.pdf', 'nov-2014.pdf', 'FBM_Minutes_06-07-25.pdf', 'FBM_Minutes_04-11-16.pdf', 'FBM_Minutes_07-04-17.pdf', '10-02-23.pdf', '23-12-20.pdf', 'FBM_Minutes_04-10-19.pdf', 'FBM_Minutes_07-09-18.pdf', '16-12-21.pdf', '12-01-24.pdf', 'FBM_Minutes_04-12-21.pdf', 'feb-2015.pdf', '23-10-24.pdf', '05-27-14.pdf', '22-04-26.pdf', 'FBM_Minutes_08-01-15.pdf', '16-10-25.pdf', '15-09-30.pdf', '18-09-25.pdf', '19-01-22.pdf', 'FBM_Minutes_05-06-21.pdf', '17-04-25.pdf', '13-07-30.pdf', '19-03-26.pdf', 'FBM_Minutes_05-04-19.pdf', '10-09-28.pdf', 'FBM_Minutes_09-02-24.pdf', 'oct-2013.pdf', '091124.pdf', '15-12-17.pdf', '20-05-26.pdf', 'FBM_Minutes_09-07-28.pdf', '18-07-31.pdf', '20-09-22.pdf', '13-09-24.pdf', 'FBM_Minutes_08-04-22.pdf', 'FBM_Minutes_05-03-15.pdf', '12-11-27.pdf', '14-04-29.pdf', 'FBM_Minutes_06-03-21.pdf', '16-02-23.pdf', '17-03-28.pdf', 'FBM_Minutes_05-11-15.pdf', '12-03-27.pdf', '11-04-26.pdf', 'FBM_Minutes_07-10-16.pdf', '17-11-28.pdf', 'FBM_Minutes_08-06-24.pdf', '21-03-23.pdf', '19-11-21.pdf', '21-01-26.pdf', '10-10-26.pdf', 'oct-2014.pdf', '21-11-23.pdf', '18-05-22.pdf', 'FBM_Minutes_07-07-31.pdf', '17-06-27.pdf']\n"
     ]
    }
   ],
   "source": [
    "folder_path = '/Users/thomaslee/Desktop/G1-2/Studio/CommunityBoard/monthly-full-board-meeting-minutes'\n",
    "files = os.listdir(folder_path)\n",
    "print(files)"
   ]
  },
  {
   "cell_type": "code",
   "execution_count": 96,
   "metadata": {},
   "outputs": [],
   "source": [
    "def extract_text_from_pdf(pdf_path):\n",
    "    return extract_text(pdf_path)\n",
    "\n",
    "def split_text_into_chunks(text, words_per_chunk=1000):\n",
    "    words = text.split()\n",
    "    for i in range(0, len(words), words_per_chunk):\n",
    "        yield ' '.join(words[i:i+words_per_chunk])\n",
    "\n",
    "def query_openai(text, prompt):\n",
    "    GPT_MODEL = \"gpt-3.5-turbo\" #\"gpt-3.5-turbo-1106\"\n",
    "    messages = [\n",
    "        {\"role\": \"system\", \"content\": 'You are a community board observer.'\n",
    "        },\n",
    "        {\"role\": \"user\", \"content\": f\"{text}\\n\\n###\\n\\n{prompt}\"},\n",
    "    ]\n",
    "    response = client.chat.completions.create(\n",
    "        model=GPT_MODEL,\n",
    "        messages=messages,\n",
    "        temperature=0\n",
    "    )\n",
    "    response_message = response.choices[0].message.content\n",
    "    return(response_message )"
   ]
  },
  {
   "cell_type": "code",
   "execution_count": 115,
   "metadata": {},
   "outputs": [],
   "source": [
    "def process_pdf_file(pdf_path):\n",
    "    filename = os.path.basename(pdf_path)\n",
    "    text = extract_text_from_pdf(pdf_path)\n",
    "    data = []\n",
    "\n",
    "    prompts = [\n",
    "        (\"Key Terms\", \"Return two key terms from the meeting minutes.\"),\n",
    "        (\"Compliance\", \"Did the meeting comply with the Open Meetings Law and NYC Charter? If so, just return Yes and nothing else, if not, return the reason.\"),\n",
    "        (\"Intersting\", \"Return two key terms about anyting you noticed interesting/unusual/unexpected for a community board meeting.\")\n",
    "    ]\n",
    "\n",
    "    for chunk in split_text_into_chunks(text):\n",
    "        row = {'Filename': filename}  # Start with the filename\n",
    "        for column_name, prompt_text in prompts:\n",
    "            response = query_openai(chunk, prompt_text)\n",
    "            row[column_name] = response  # Add response under the specific column for each prompt\n",
    "        data.append(row)\n",
    "\n",
    "    return pd.DataFrame(data)"
   ]
  },
  {
   "cell_type": "code",
   "execution_count": 114,
   "metadata": {},
   "outputs": [],
   "source": [
    "def process_all_pdfs_in_folder(folder_path):\n",
    "    all_data = []\n",
    "    for filename in os.listdir(folder_path):\n",
    "        if filename.endswith('.pdf'):\n",
    "            pdf_path = os.path.join(folder_path, filename)\n",
    "            try:\n",
    "                df = process_pdf_file(pdf_path)\n",
    "                all_data.append(df)\n",
    "            except Exception as e:\n",
    "                print(f\"Failed to process {filename}: {e}\")\n",
    "    return pd.concat(all_data, ignore_index=True)"
   ]
  },
  {
   "cell_type": "code",
   "execution_count": 116,
   "metadata": {},
   "outputs": [],
   "source": [
    "# Run the function\n",
    "folder_path = '/Users/thomaslee/Desktop/G1-2/Studio/CommunityBoard/monthly-full-board-meeting-minutes'\n",
    "result_df = process_all_pdfs_in_folder(folder_path)"
   ]
  },
  {
   "cell_type": "code",
   "execution_count": 117,
   "metadata": {},
   "outputs": [
    {
     "name": "stdout",
     "output_type": "stream",
     "text": [
      "                     Filename  \\\n",
      "0    FBM_Minutes_03-04-15.pdf   \n",
      "1    FBM_Minutes_03-04-15.pdf   \n",
      "2    FBM_Minutes_03-04-15.pdf   \n",
      "3    FBM_Minutes_03-04-15.pdf   \n",
      "4                20-07-28.pdf   \n",
      "..                        ...   \n",
      "690  FBM_Minutes_07-07-31.pdf   \n",
      "691  FBM_Minutes_07-07-31.pdf   \n",
      "692              17-06-27.pdf   \n",
      "693              17-06-27.pdf   \n",
      "694              17-06-27.pdf   \n",
      "\n",
      "                                             Key Terms Compliance  \\\n",
      "0    1. South Street Seaport C62-A – 120ft height c...        Yes   \n",
      "1    1. Variance for Local Children\\n2. Battery Par...        Yes   \n",
      "2                 1. Liberty Bonds\\n2. Jersey Barriers        Yes   \n",
      "3        1. ABSENT: J. MORRONE\\n2. PRESENT: NOTARO, A.        Yes   \n",
      "4      1. Commercial rent tax\\n2. Mortgage forbearance        Yes   \n",
      "..                                                 ...        ...   \n",
      "690       1. Rent Stabilization\\n2. Affordable Housing        Yes   \n",
      "691  1. World Trade Center (WTC) Construction Site\\...        Yes   \n",
      "692  1. Mayoral control of the Department of Educat...        Yes   \n",
      "693  1. Liquor license application for American Fla...        Yes   \n",
      "694  1. Flood Resilience Zoning Text Amendment\\n2. ...        Yes   \n",
      "\n",
      "                                            Intersting  \n",
      "0    1. **South Street Seaport C62-A - 120ft height...  \n",
      "1    1. The unanimous approval of resolutions: It i...  \n",
      "2    1. \"Jersey Barriers\": The resolution regarding...  \n",
      "3    1. Attendance Tracking: The detailed attendanc...  \n",
      "4    1. **225 Rector Street Evictions**: The strong...  \n",
      "..                                                 ...  \n",
      "690  1. Proposal to Rethink the Term \"Affordable Ho...  \n",
      "691  1. \"Healing and Forgiveness Garden of Manhatta...  \n",
      "692  1. **Compromise bill for BPC residents on BPCA...  \n",
      "693  1. Livability Index: The presentation by the C...  \n",
      "694  1. The Licensing & Permits Committee discussed...  \n",
      "\n",
      "[695 rows x 4 columns]\n"
     ]
    }
   ],
   "source": [
    "# Save the result to a CSV file\n",
    "print(result_df)"
   ]
  },
  {
   "cell_type": "code",
   "execution_count": 118,
   "metadata": {},
   "outputs": [],
   "source": [
    "result_df.to_csv('output.csv', index=False)"
   ]
  }
 ],
 "metadata": {
  "kernelspec": {
   "display_name": "Python 3",
   "language": "python",
   "name": "python3"
  },
  "language_info": {
   "codemirror_mode": {
    "name": "ipython",
    "version": 3
   },
   "file_extension": ".py",
   "mimetype": "text/x-python",
   "name": "python",
   "nbconvert_exporter": "python",
   "pygments_lexer": "ipython3",
   "version": "3.11.6"
  }
 },
 "nbformat": 4,
 "nbformat_minor": 2
}
