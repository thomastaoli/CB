{
 "cells": [
  {
   "cell_type": "code",
   "execution_count": null,
   "metadata": {},
   "outputs": [],
   "source": [
    "!playwright install"
   ]
  },
  {
   "cell_type": "code",
   "execution_count": null,
   "metadata": {},
   "outputs": [],
   "source": [
    "import requests\n",
    "from playwright.async_api import async_playwright\n",
    "from bs4 import BeautifulSoup\n",
    "import regex\n",
    "import os"
   ]
  },
  {
   "cell_type": "code",
   "execution_count": null,
   "metadata": {},
   "outputs": [],
   "source": [
    "url = \"https://www.nyc.gov/site/manhattancb1/archives/committee-meeting-agendas.page\""
   ]
  },
  {
   "cell_type": "code",
   "execution_count": null,
   "metadata": {},
   "outputs": [],
   "source": [
    "playwright = await async_playwright().start()\n",
    "browser = await playwright.chromium.launch(headless = True)\n",
    "page = await browser.new_page()\n",
    "\n",
    "await page.goto(url)"
   ]
  },
  {
   "cell_type": "code",
   "execution_count": null,
   "metadata": {},
   "outputs": [],
   "source": [
    "html = await page.content()\n",
    "doc = BeautifulSoup(html)"
   ]
  },
  {
   "cell_type": "code",
   "execution_count": null,
   "metadata": {},
   "outputs": [],
   "source": [
    "tabs = doc.find(class_=\"agencies-about-links\").find_all('li')"
   ]
  },
  {
   "cell_type": "code",
   "execution_count": null,
   "metadata": {},
   "outputs": [],
   "source": [
    "tab_links = []\n",
    "\n",
    "for tab in tabs:\n",
    "  link = tab.a\n",
    "  tab_links.append(link['href'])\n",
    "\n",
    "tab_links"
   ]
  },
  {
   "cell_type": "code",
   "execution_count": null,
   "metadata": {},
   "outputs": [],
   "source": [
    "root_url = 'https://www.nyc.gov'"
   ]
  },
  {
   "cell_type": "code",
   "execution_count": null,
   "metadata": {},
   "outputs": [],
   "source": [
    "def create_folder(category):\n",
    "    folder_path = os.path.join('/content/pdfs', category)\n",
    "    os.makedirs(folder_path, exist_ok=True)"
   ]
  },
  {
   "cell_type": "code",
   "execution_count": null,
   "metadata": {},
   "outputs": [],
   "source": [
    "for link in tab_links:\n",
    "  full_url = root_url + link\n",
    "  last_part = full_url.split('/')[-1]\n",
    "  category = last_part.replace('.page', '')\n",
    "  create_folder(category)\n",
    "\n",
    "  # Then scrape all the links for each page and save them in the right folder.\n",
    "  await page.goto(full_url)\n",
    "  html = await page.content()\n",
    "  doc = BeautifulSoup(html)\n",
    "  files = doc.find(class_=\"about-main-image\").find_all('a')\n",
    "  for file in files:\n",
    "    file_url = file['href']\n",
    "    file_name = file_url.split('/')[-1]\n",
    "    file_name = file_name.replace(' ', '_')\n",
    "    response = requests.get(root_url + file_url)\n",
    "    with open(f\"/content/pdfs/{category}/{file_name}\", 'wb') as f:\n",
    "        f.write(response.content)\n",
    "  print(f\"Got files for {category}\")"
   ]
  },
  {
   "cell_type": "code",
   "execution_count": null,
   "metadata": {},
   "outputs": [],
   "source": [
    "!cp -r /Users/thomaslee/Desktop/G1-2/Studio/CommunityBoard"
   ]
  },
  {
   "cell_type": "code",
   "execution_count": null,
   "metadata": {},
   "outputs": [],
   "source": [
    "!ls /Users/thomaslee/Desktop/G1-2/Studio/CommunityBoard"
   ]
  }
 ],
 "metadata": {
  "language_info": {
   "name": "python"
  }
 },
 "nbformat": 4,
 "nbformat_minor": 2
}
